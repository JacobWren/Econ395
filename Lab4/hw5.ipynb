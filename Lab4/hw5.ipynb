{
 "cells": [
  {
   "cell_type": "markdown",
   "metadata": {},
   "source": [
    "### (1) Do the datacamp exercises on regression and hypertuning\n",
    "### (2) Read the 2 articles on tech jobs, and machine learning/econometrics\n",
    "### (3) Complete the below notebook (WARNING: the results will not look partiuclarly good until the last hypertuning part. You'll notice that you can even get a negative R squared. Read this explanation to learn why: http://www.fairlynerdy.com/what-is-r-squared/)\n",
    "\n",
    "##### Submit to gradescrope both: \n",
    "- PDF print out to HW 5 PDF that includes the graphs and your text answers, on gradescope (15 pts)\n",
    "- hw5.ipynb to HW 5 for auto grading (15 pts)"
   ]
  },
  {
   "cell_type": "code",
   "execution_count": 3,
   "metadata": {},
   "outputs": [],
   "source": [
    "# Import Modules\n",
    "# YOU MUST REMOVE ALL REFERNCES TO MATPLOTLIB BEFORE SUBMISSION \n",
    "import os\n",
    "import numpy as np\n",
    "import pandas as pd\n",
    "##import matplotlib.pyplot as plt\n",
    "##%matplotlib inline  \n",
    "from sklearn.linear_model import Ridge, LinearRegression, RidgeCV\n",
    "from sklearn.model_selection import GridSearchCV, KFold, cross_val_score, train_test_split\n",
    "from sklearn.metrics import mean_squared_error\n",
    "from sklearn.metrics import r2_score\n",
    "from sklearn.preprocessing import PolynomialFeatures\n",
    "from sklearn.model_selection import cross_val_score\n",
    "import math  "
   ]
  },
  {
   "cell_type": "code",
   "execution_count": 4,
   "metadata": {},
   "outputs": [],
   "source": [
    "# Load the Ladybug data into a dataframe\n",
    "\"\"\"\n",
    "In 1983 an article was published about ladybird beetles and their \n",
    "behavior changes under different temperature conditions (N. H. Copp. Animal Behavior, 31,:424-430). \n",
    "An experiment was run to see how many beetles stayed in light as temperature changed.\n",
    "\"\"\"\n",
    "\n",
    "def get_ladybug_df():\n",
    "    file_path = os.getenv(\"ROOT_PATH\", \"./\") + 'LadyBugs.csv'\n",
    "    return pd.read_csv(file_path)\n",
    "\n",
    "\n",
    "df = get_ladybug_df()\n",
    "#df = pd.read_csv(\"LadyBugs.csv\") \n",
    "#df.head()"
   ]
  },
  {
   "cell_type": "code",
   "execution_count": 87,
   "metadata": {},
   "outputs": [],
   "source": [
    "# Warmup. Write a function that shows the first 5 observations (hint use DataFrame method head)\n",
    "def first_five(df):\n",
    "    return df.head(50)\n",
    "first_five(df)"
   ]
  },
  {
   "cell_type": "markdown",
   "metadata": {},
   "source": [
    "# Linear Regression, Part I  "
   ]
  },
  {
   "cell_type": "code",
   "execution_count": 45,
   "metadata": {},
   "outputs": [
    {
     "data": {
      "text/plain": [
       "array([[0.47768274]])"
      ]
     },
     "execution_count": 45,
     "metadata": {},
     "output_type": "execute_result"
    }
   ],
   "source": [
    "# Create data frames for features (Lighted) and target variable (Temp)\n",
    "y = df[['Lighted']]\n",
    "X = df[['Temp']]\n",
    "\n",
    "# Train the model using the training sets\n",
    "def train_OLS(X, y):\n",
    "    \"\"\"\n",
    "    :param train_OLS: X, y dataframes\n",
    "    :return: ols, X_test, y_test\n",
    "    \"\"\" \n",
    "    # Create training and test sets with 0.3 test size AND A RANDOM_STATE = 12345 (Read the docs for train_test_split() )\n",
    "    X_train, X_test, y_train, y_test = train_test_split(X, y, test_size = 0.3, random_state = 12345)\n",
    "\n",
    "    # Create linear regression object call ols\n",
    "    ols = LinearRegression()\n",
    "    \n",
    "    # Fit the model \n",
    "    ols.fit(X_train, y_train)\n",
    "    \n",
    "    #Return the ols model, and the X_test and y_test data\n",
    "    return ols, X_test, y_test\n",
    "    #return ols, X_train, y_train\n",
    "\n",
    "ols, X_test, y_test = train_OLS(X, y)\n",
    "ols.coef_\n",
    "\n",
    "#ols, X_train, y_train = train_OLS(X, y)\n",
    "#ols.coef_\n"
   ]
  },
  {
   "cell_type": "markdown",
   "metadata": {},
   "source": [
    "## Plot outputs"
   ]
  },
  {
   "cell_type": "code",
   "execution_count": 7,
   "metadata": {},
   "outputs": [
    {
     "data": {
      "text/plain": [
       "<matplotlib.collections.PathCollection at 0x1a220f0f50>"
      ]
     },
     "execution_count": 7,
     "metadata": {},
     "output_type": "execute_result"
    },
    {
     "data": {
      "image/png": "[encoded data removed]",
      "text/plain": [
       "<Figure size 432x288 with 1 Axes>"
      ]
     },
     "metadata": {
      "needs_background": "light"
     },
     "output_type": "display_data"
    }
   ],
   "source": [
    "x_min = int(X_test.min())\n",
    "x_max = int(X_test.max())\n",
    "\n",
    "# Scatter plot the actual test data against the fitted \"line\"\n",
    "predictor_space = pd.DataFrame(np.arange(x_min, x_max, 0.05))\n",
    "##plt.plot(predictor_space, ols.predict(predictor_space), color='blue', linewidth=3)\n",
    "##plt.scatter(X_test, y_test,  color='black')"
   ]
  },
  {
   "cell_type": "code",
   "execution_count": 37,
   "metadata": {},
   "outputs": [
    {
     "name": "stdout",
     "output_type": "stream",
     "text": [
      "R^2: -0.26628594368008884\n",
      "Mean Squared Error: 302.4097574070286\n"
     ]
    }
   ],
   "source": [
    "# Get the predicted y_pred using the test data\n",
    "y_pred = ols.predict(X_test)\n",
    "\n",
    "# Compute and print the R^2 and MSE \n",
    "print(\"R^2: {}\".format(ols.score(X_test, y_test)))\n",
    "mse = mean_squared_error(y_test, y_pred)\n",
    "print(\"Mean Squared Error: {}\".format(mse))\n",
    "\n",
    "#R^2: -0.26628594368008884\n",
    "#Mean Squared Error: 302.4097574070286"
   ]
  },
  {
   "cell_type": "markdown",
   "metadata": {},
   "source": [
    "## Predict on the Test data"
   ]
  },
  {
   "cell_type": "code",
   "execution_count": 34,
   "metadata": {},
   "outputs": [
    {
     "name": "stdout",
     "output_type": "stream",
     "text": [
      "R^2: 0.27811893340211236\n",
      "Mean Squared Error: 84.62772161741836\n"
     ]
    },
    {
     "data": {
      "text/plain": [
       "-2.0444371548812934"
      ]
     },
     "execution_count": 34,
     "metadata": {},
     "output_type": "execute_result"
    }
   ],
   "source": [
    "# Get the predicted y_pred using the test data\n",
    "#y_pred = ols.predict(X_train)\n",
    "\n",
    "# Compute and print the R^2 and MSE \n",
    "#print(\"R^2: {}\".format(ols.score(X_train, y_train)))\n",
    "#mse = mean_squared_error(y_train, y_pred)\n",
    "print(\"Mean Squared Error: {}\".format(mse))\n",
    "\n",
    "#(0.27811893340211236+0.26628594368008884)/-0.26628594368008884"
   ]
  },
  {
   "cell_type": "markdown",
   "metadata": {},
   "source": [
    "(3 points)\n",
    "## a. Does this plot look like a good fit to the data? (Discuss bias versus variance and out-of-sample (OOS) prediction in your answer)\n",
    "No, clearly the data is non-linear. A polynomial would be a better fit. Yes, our model has low variance, but the bias is very high as a result. Clearly, our model needs to be a bit more complicated. Our model really struggles with predicting on unseen data. Our out of sample metrics suggest out model needs to be adjusted to better perform on unseen data. While this may mean adding variance to our model, it will help with bias.\n",
    "\n",
    "## b. What do out of sample metrics tell you?\n",
    "The negative R^2 tells us that our regression line is worse than just using the mean value, i.e, that's how bad our model is. It is difficult to gauge the sample metrics, namely MSE in isolation. So, I computed the sample metrics on the training data as well. The R^2 was .28 and the MSE was 84. So, our model performed significantly better on the training data. The R^2 droped by over 200% when our model was fitted on unseen data! A large increase is the MSE may indicate we are overfitting the model to our training data. This would indicate that we are overfitting if the R^2's were similar. But since the R^2's are very different this may instead indicate we are \"underfitting\". Clearly, our model is not robust."
   ]
  },
  {
   "cell_type": "markdown",
   "metadata": {},
   "source": [
    "# Polynomial Regression, Part II"
   ]
  },
  {
   "cell_type": "code",
   "execution_count": 42,
   "metadata": {},
   "outputs": [
    {
     "name": "stdout",
     "output_type": "stream",
     "text": [
      "Dimensions of X after reshaping: (44, 16)\n"
     ]
    },
    {
     "data": {
      "text/plain": [
       "array([[ 0.00000000e+00,  2.48921020e-10,  2.79794504e-12,\n",
       "         4.92269561e-13,  5.40022249e-12,  5.44612622e-11,\n",
       "         4.92304431e-10,  3.77661130e-09,  2.20495799e-08,\n",
       "         7.35269557e-08, -1.66215797e-08,  1.51776135e-09,\n",
       "        -7.30216623e-11,  1.95917325e-12, -2.78257982e-14,\n",
       "         1.63534754e-16]])"
      ]
     },
     "execution_count": 42,
     "metadata": {},
     "output_type": "execute_result"
    }
   ],
   "source": [
    "df = get_ladybug_df()\n",
    "#df = pd.read_csv(\"LadyBugs.csv\") \n",
    "# Create arrays for features (Lighted) and target variable (Temp)\n",
    "yp = df[['Lighted']]\n",
    "Xp = df[['Temp']]\n",
    "\n",
    "# Add in 15-degree polynomial of the X variables\n",
    "poly = PolynomialFeatures(degree=15)\n",
    "Xp = pd.DataFrame(poly.fit_transform(Xp))\n",
    "print(\"Dimensions of X after reshaping: {}\".format(Xp.shape))\n",
    "\n",
    "def train_Poly(X, y):\n",
    "    \"\"\"\n",
    "    Model your code off of the earlier modeling\n",
    "    :param train_Poly: X, y dataframes\n",
    "    :return: ols, X_test, y_test\n",
    "    \"\"\" \n",
    "    \n",
    "   # Create training and test sets with 0.3 test size and random_state = 12345, (replace None)\n",
    "    X_train, X_test, y_train, y_test = train_test_split(X, y, test_size = 0.3, random_state = 12345)\n",
    "\n",
    "\n",
    "    # Create linear regression object, (replace None)\n",
    "    ols2 = LinearRegression()\n",
    "      \n",
    "    # Fit the model using the training sets \n",
    "    ols2.fit(X_train, y_train)\n",
    "    \n",
    "    return ols2, X_test, y_test\n",
    "\n",
    "ols2, X_test2, y_test2 = train_Poly(Xp, yp)\n",
    "ols2.coef_"
   ]
  },
  {
   "cell_type": "markdown",
   "metadata": {},
   "source": [
    "## Plot outputs"
   ]
  },
  {
   "cell_type": "code",
   "execution_count": 21,
   "metadata": {},
   "outputs": [
    {
     "data": {
      "text/plain": [
       "[<matplotlib.lines.Line2D at 0x1a21994910>]"
      ]
     },
     "execution_count": 21,
     "metadata": {},
     "output_type": "execute_result"
    },
    {
     "data": {
      "image/png": "[encoded data removed]",
      "text/plain": [
       "<Figure size 432x288 with 1 Axes>"
      ]
     },
     "metadata": {
      "needs_background": "light"
     },
     "output_type": "display_data"
    }
   ],
   "source": [
    "predictor_space = pd.DataFrame(np.arange(x_min, x_max, 0.05)) # Creates prediction space on x interval\n",
    "predictor_poly = pd.DataFrame(poly.fit_transform(predictor_space)) # Creates data to predict on\n",
    "\n",
    "# Scatter plot the actual test data with the fitted \"line\"\n",
    "##plt.scatter(X_test2.iloc[ : ,[1]], y_test2,  color='black')\n",
    "##plt.plot(predictor_space, ols2.predict(predictor_poly), color='blue') # Plot fitted model "
   ]
  },
  {
   "cell_type": "markdown",
   "metadata": {},
   "source": [
    "## Predict on the Test data"
   ]
  },
  {
   "cell_type": "code",
   "execution_count": 22,
   "metadata": {},
   "outputs": [
    {
     "name": "stdout",
     "output_type": "stream",
     "text": [
      "R^2: -0.06626668664938995\n",
      "Mean Squared Error: 254.6418932075747\n"
     ]
    }
   ],
   "source": [
    "def score_model(ols2, X, y):\n",
    "    \"\"\"\n",
    "    Model your code based off of earlier prediction cells but now returning the values in this function\n",
    "    :param ols: LinearRegression Model \n",
    "    :return: (r_squared, mse)\n",
    "    \"\"\"\n",
    "\n",
    "    # Predict on the test data: y_pred\n",
    "    y_pred = ols2.predict(X)\n",
    "    \n",
    "    # Calculate R^2 value\n",
    "    # (replace None)\n",
    "    r_squared = r2_score(y, y_pred)\n",
    "\n",
    "    # Compute MSE\n",
    "    # (replace None)\n",
    "    mse = mean_squared_error(y, y_pred)\n",
    "    #rmse = math.sqrt(mse)\n",
    "    \n",
    "    return r_squared, mse\n",
    "\n",
    "r_squared, mse = score_model(ols2, X_test2, y_test2)\n",
    "print(\"R^2: {}\".format(r_squared))\n",
    "print(\"Mean Squared Error: {}\".format(mse))"
   ]
  },
  {
   "cell_type": "markdown",
   "metadata": {},
   "source": [
    "(3 points)\n",
    "## a. What exactly is the plot code doing above. \n",
    "In your own words, explain what \" ols2.predict(predictor_poly) \" does, and then \" plt.plot(predictor_space, ols2.predict(predictor_poly), color='blue') \". (An answer like \" it plots the fitted model \" is not sufficient. Tell what the two series that are being plotted are. \n",
    "We have a model, i.e coeficients, but in order to graph the model it needs to take in data, actual values. So, \"predictor_poly\" passes in values which in turn our model (ols2) uses to predict on. This lets us plot a smooth function. \n",
    "In the plt.plot line of code we first pass predictor_space which defines the x-axis. Changing any component of \"predictor_space\" would change the layout of the graph and hence the appearance of our model. Then \"ols2.predict(predictor_poly)\" is passed in. This is the f(x) or y values from our model - the predictions. \n",
    "The \" color = 'blue' \" makes the color of the plot blue.\n",
    "\n",
    "\n",
    "## a. Does this plot look better than the previous OLS plot? (Discuss what the added polynormial terms do to the model fit with respect to bias versus variance.)\n",
    "Well, while there is less bias, the variance is now very high. In other words, our model has too many terms. It is likely that we are overfitting. The added polynomial terms allow the model to better fit the data. But this added flexibility can also make the model over respond to specifics in the data and hence be less robust.\n",
    "\n",
    "## b. Why? What do out of sample metrics tell you?\n",
    "While the R^2 is still negative, but it is better than the R^2 from ols. The MSE is also smaller than the MSE from OLS. This indicates that our polynomial is probably an improvement from ols."
   ]
  },
  {
   "cell_type": "markdown",
   "metadata": {},
   "source": [
    "# Ridge Regression, Part III"
   ]
  },
  {
   "cell_type": "code",
   "execution_count": 29,
   "metadata": {},
   "outputs": [
    {
     "data": {
      "text/plain": [
       "array([[ 0.00000000e+00,  8.88340600e-01,  1.74389597e-03,\n",
       "        -1.53916084e-04, -6.00846537e-06, -1.67396163e-07,\n",
       "        -4.07149121e-09, -8.93087479e-11, -1.71415060e-12,\n",
       "        -2.47687064e-14, -2.88044737e-17,  1.79307427e-17,\n",
       "         1.02580139e-18,  4.32810664e-20,  1.61486326e-21,\n",
       "         5.63326556e-23]])"
      ]
     },
     "execution_count": 29,
     "metadata": {},
     "output_type": "execute_result"
    }
   ],
   "source": [
    "# Read the CSV file into a DataFrame: df\n",
    "df = get_ladybug_df()\n",
    "#df = pd.read_csv(\"LadyBugs.csv\") \n",
    "\n",
    "# Create arrays for features (Lighted) and target variable (Temp)\n",
    "# your code here\n",
    "yr = df[['Lighted']]\n",
    "Xr = df[['Temp']]\n",
    "\n",
    "# Add in 15-degree polynomial of the X variables\n",
    "Xr = pd.DataFrame(PolynomialFeatures(degree=15).fit_transform(Xr))\n",
    "    \n",
    "def train_Ridge(X, y):\n",
    "    \"\"\"\n",
    "    Model your code off of the earlier modeling\n",
    "    :param train_Poly: X, y dataframes\n",
    "    :return: ols, X_test, y_test\n",
    "    \"\"\" \n",
    "    \n",
    "   # Create training and test sets with 0.3 test size and random_state = 12345, (replace None)\n",
    "    X_train, X_test, y_train, y_test = train_test_split(X, y, test_size = 0.3, random_state = 12345)\n",
    "\n",
    "    # Create a ridge regressor object called ridge with lambda = 0.1\n",
    "    ridge = Ridge(normalize = True, alpha = 0.1)\n",
    "    \n",
    "    # Train the ridge model using the training sets (the polynomial factors are in the data)\n",
    "    ridge.fit(X_train, y_train)\n",
    "    \n",
    "    return ridge, X_test, y_test\n",
    "\n",
    "ridge, X_test3, y_test3 = train_Ridge(Xr, yr)\n",
    "ridge.coef_"
   ]
  },
  {
   "cell_type": "markdown",
   "metadata": {},
   "source": [
    "## Plot outputs"
   ]
  },
  {
   "cell_type": "code",
   "execution_count": 82,
   "metadata": {},
   "outputs": [
    {
     "data": {
      "text/plain": [
       "[<matplotlib.lines.Line2D at 0x1a22908190>]"
      ]
     },
     "execution_count": 82,
     "metadata": {},
     "output_type": "execute_result"
    },
    {
     "data": {
      "image/png": "[encoded data removed]",
      "text/plain": [
       "<Figure size 432x288 with 1 Axes>"
      ]
     },
     "metadata": {
      "needs_background": "light"
     },
     "output_type": "display_data"
    }
   ],
   "source": [
    "predictor_space = pd.DataFrame(np.arange(x_min, x_max,  0.056)) # Creates prediction space on x interval\n",
    "predictor_poly = pd.DataFrame(poly.fit_transform(predictor_space)) # Creates data to predict on\n",
    "\n",
    "\n",
    "# Scatter plot the actual test data with the fitted \"line\"\n",
    "##plt.scatter(X_test3.iloc[ : ,[1]], y_test3,  color='black')\n",
    "##plt.plot(predictor_space, ridge.predict(predictor_poly), color='blue') # Plot fitted model "
   ]
  },
  {
   "cell_type": "markdown",
   "metadata": {},
   "source": [
    "## Predict on the Test data"
   ]
  },
  {
   "cell_type": "code",
   "execution_count": 76,
   "metadata": {},
   "outputs": [
    {
     "name": "stdout",
     "output_type": "stream",
     "text": [
      "R^2: 0.028120493496477383\n",
      "Mean Squared Error: 232.10069357355556\n"
     ]
    },
    {
     "data": {
      "text/plain": [
       "-1658.98422"
      ]
     },
     "execution_count": 76,
     "metadata": {},
     "output_type": "execute_result"
    }
   ],
   "source": [
    "# Compute and print R^2 and MSE from ridge using the score_model() function \n",
    "r_squared, mse = score_model(ridge, X_test2, y_test2)\n",
    "print(\"R^2: {}\".format(r_squared))\n",
    "print(\"Mean Squared Error: {}\".format(mse))"
   ]
  },
  {
   "cell_type": "markdown",
   "metadata": {},
   "source": [
    "(3 points)\n",
    "## a. Does this plot look better than the previous Polynomial plot? (Discuss what regularization does with respect to the added polynormial terms, and how that affects the plot with respect to bias versus variance.)\n",
    "Yes the plot looks only slightly better than the polynomial plot. Regularization or more specifically ridge regression penalizes or downweights the coeficients that are less important in explaining 'lighted' or redundant. The plot now does a better job of not fitting into the noise. This means our plot will have a lot less variance but potentially less bias. In our plot, we clearly have less variance, and it doesn't seem that bias has increased. \n",
    " \n",
    "## b. Why? What do out of sample metrics tell you? Use the score_model method you wrote.\n",
    "The out of sample metrics tell us our model is doing a better job of explaining 'lighted'. Our R^2 is finally positive and the MSE is the lowest yet. Clearly, this is our best model yet."
   ]
  },
  {
   "cell_type": "markdown",
   "metadata": {},
   "source": [
    "# Get the 10 fold CV Scores (R2) for all 3 fitted models"
   ]
  },
  {
   "cell_type": "code",
   "execution_count": 74,
   "metadata": {},
   "outputs": [
    {
     "name": "stdout",
     "output_type": "stream",
     "text": [
      "Cross-validated OLS scores: [-33.96581976 -29.71743708  -0.83579887  -1.94477718  -9.68817203\n",
      "  -9.26327739  -5.81365592  -0.09299868  -2.28013562 -12.21403216]\n",
      "Cross-validated OLS scores: 10.581610468478257\n",
      "Cross-validated Polynomial Regression scores: [-3.05697054e+01 -2.47312079e+01 -1.52022791e-01 -3.34808856e+00\n",
      " -1.26587709e+01 -5.15858469e+00 -5.21440502e+00 -4.22700543e+00\n",
      " -1.65898422e+03 -3.38282176e+06]\n",
      "Cross-validated Polynomial Regression scores: 338456.6808812808\n",
      "Cross-validated Ridge scores: [-23.94554338 -25.10535509  -0.2987926   -1.6796061   -6.84936727\n",
      "  -5.11062478  -2.04986497  -1.14604777  -0.48135013 -45.70781976]\n",
      "Cross-validated Ridge scores: 11.237437184753405\n"
     ]
    }
   ],
   "source": [
    "ols_scores = cross_val_score(ols, X, y, cv = 10, scoring = 'r2')\n",
    "print(\"Cross-validated OLS scores:\", ols_scores)\n",
    "#print(\"Cross-validated OLS scores:\", ols_scores.mean()*-1)\n",
    "\n",
    "# ols2\n",
    "poly_scores = cross_val_score(ols2, Xp, yp, cv = 10, scoring = 'r2')\n",
    "print(\"Cross-validated Polynomial Regression scores:\", poly_scores)\n",
    "#print(\"Cross-validated Polynomial Regression scores:\", poly_scores.mean()*-1)\n",
    "\n",
    "# ridge\n",
    "ridge_scores = cross_val_score(ridge, Xr, yr, cv = 10, scoring = 'r2')\n",
    "print(\"Cross-validated Ridge scores:\", ridge_scores)\n",
    "#print(\"Cross-validated Ridge scores:\", ridge_scores.mean()*-1)"
   ]
  },
  {
   "cell_type": "markdown",
   "metadata": {},
   "source": [
    "## Are any of these models performing well? \n",
    "The R^2's are all very low. Thus, no model is performing well but ridge is definitely the best."
   ]
  },
  {
   "cell_type": "markdown",
   "metadata": {},
   "source": [
    "# Hyper Tune Lambda, K-fold Grid Search, Ridge Regression, Part IV"
   ]
  },
  {
   "cell_type": "code",
   "execution_count": 78,
   "metadata": {},
   "outputs": [
    {
     "data": {
      "text/plain": [
       "Ridge(alpha=0.011009009009009009, copy_X=True, fit_intercept=True,\n",
       "      max_iter=None, normalize=True, random_state=None, solver='auto',\n",
       "      tol=0.001)"
      ]
     },
     "execution_count": 78,
     "metadata": {},
     "output_type": "execute_result"
    }
   ],
   "source": [
    "# Read the CSV file into a DataFrame: df\n",
    "df = get_ladybug_df()\n",
    "#df = pd.read_csv(\"LadyBugs.csv\") \n",
    "\n",
    "# Create arrays for features (Lighted) and target variable (Temp)\n",
    "y = df[['Lighted']]\n",
    "X = df[['Temp']]\n",
    "\n",
    "# Add in 15-degree polynomial of the X variables\n",
    "X = pd.DataFrame(PolynomialFeatures(degree=15).fit_transform(X))\n",
    "\n",
    "# Create training and test sets with 0.3 hold out for test data and random_state = 12345\n",
    "X_train4, X_test4, y_train4, y_test4 = train_test_split(X, y, test_size = 0.3, random_state = 12345)\n",
    "\n",
    "# Setup a grid of lambdas (aka alphas) called param_grid of 1000 lambdas from .001 to 10\n",
    "param_grid = {'alpha': np.linspace(0.001, 10, num = 1000)}\n",
    "\n",
    "# Create a ridge regressor object called ridge2\n",
    "ridge2 = Ridge(normalize = True) \n",
    "\n",
    "# Setup the GridSearchCV object called grid_ridge for 10 folds using the param_grid above and ridge object\n",
    "grid_ridge = GridSearchCV(ridge2, param_grid, cv = 10)\n",
    "\n",
    "# Train the model using the training sets 5 folds for all lambdas!\n",
    "# your code here\n",
    "grid_ridge.fit(X_train4, y_train4)\n",
    "\n",
    "#Get the best lambda\n",
    "best = grid_ridge.best_params_\n",
    "\n",
    "\n",
    "# Create a final ridge regressor object called ridge_final using the best lambda from hypertuning\n",
    "ridge_final = Ridge(alpha = best['alpha'], normalize = True)\n",
    "\n",
    "# Now fit this model on the training data \n",
    "ridge_final.fit(X_train4, y_train4)"
   ]
  },
  {
   "cell_type": "markdown",
   "metadata": {},
   "source": [
    "## Plot outputs"
   ]
  },
  {
   "cell_type": "code",
   "execution_count": 84,
   "metadata": {},
   "outputs": [
    {
     "data": {
      "text/plain": [
       "[<matplotlib.lines.Line2D at 0x1a22a2acd0>]"
      ]
     },
     "execution_count": 84,
     "metadata": {},
     "output_type": "execute_result"
    },
    {
     "data": {
      "image/png": "[encoded data removed]",
      "text/plain": [
       "<Figure size 432x288 with 1 Axes>"
      ]
     },
     "metadata": {
      "needs_background": "light"
     },
     "output_type": "display_data"
    }
   ],
   "source": [
    "predictor_space = pd.DataFrame(np.arange(x_min, x_max, 0.056)) # Creates prediction space on x interval\n",
    "predictor_poly = pd.DataFrame(poly.fit_transform(predictor_space)) # Creates data to predict on\n",
    "\n",
    "# Scatter plot the actual test data with the fitted \"line\"\n",
    "##plt.scatter(X_test4.iloc[ : ,[1]], y_test4,  color='black')\n",
    "##plt.plot(predictor_space, ridge_final.predict(predictor_poly), color='blue') # Plot fitted model "
   ]
  },
  {
   "cell_type": "markdown",
   "metadata": {},
   "source": [
    "## Final scores given tuned lambda"
   ]
  },
  {
   "cell_type": "code",
   "execution_count": 85,
   "metadata": {},
   "outputs": [
    {
     "name": "stdout",
     "output_type": "stream",
     "text": [
      "R^2: 0.380421542622177\n",
      "Mean Squared Error: 147.9654511884752\n"
     ]
    }
   ],
   "source": [
    "# Check performance using score_model\n",
    "r_squared, mse = score_model(ridge_final, X_test4, y_test4)\n",
    "print(\"R^2: {}\".format(r_squared))\n",
    "print(\"Mean Squared Error: {}\".format(mse))"
   ]
  },
  {
   "cell_type": "markdown",
   "metadata": {},
   "source": [
    "(6 points)\n",
    "## a. How many times did you estimate the model above?\n",
    "Number of lambdas * Number of K-folds = 1000 * 10 = 10,000\n",
    "## b. How does your final score (R2 and MSE) compare to before?\n",
    "The R^2 is better than before by nearly 36 percentage points. The MSE is also lower than the previous MSE.\n",
    "## c. What about your fit to the data graphically? \n",
    "Graphically, the plot is much improved. The plot captures the general trend in the data without overfitting.\n",
    "## d. Why do you think the fit is better or worse using Ridge and hypertuning your lambda paramater?\n",
    "The fit is better using ridge because we are no longer fitting into the noise. The model is improved further from hypertuning because our initial guess of lambda, was not necessarily the best guess. Cross validation allows us to find the a better lambda.\n",
    "## e. Explain the costs and benefits of increasing the parameter grid in hypertuning your model. \n",
    "The benefits are a better lambda - one that best tells us what covariates to keep/toss/down weight so that our model is not overfitting. The costs are computational.\n",
    "## f. Explain the costs and benefits of increasing the number of folds in hypertuning your model. Discuss the the extreme case, leave-one-out cross validation (LOOV-CV). \n",
    "If there were no costs with increasing the number of folds in hypertuning our model we would always do LOOV-CV. But we would be testing our model on a single data point. Furthermore, if we have too many folds our test set won't capture the variation in the data. Too many folds is also computationally expensive. Too little folds means that we will have a lot of bias since less training data is used for fitting our model."
   ]
  },
  {
   "cell_type": "code",
   "execution_count": null,
   "metadata": {},
   "outputs": [],
   "source": []
  }
 ],
 "metadata": {
  "kernelspec": {
   "display_name": "Python 3",
   "language": "python",
   "name": "python3"
  },
  "language_info": {
   "codemirror_mode": {
    "name": "ipython",
    "version": 3
   },
   "file_extension": ".py",
   "mimetype": "text/x-python",
   "name": "python",
   "nbconvert_exporter": "python",
   "pygments_lexer": "ipython3",
   "version": "3.7.4"
  }
 },
 "nbformat": 4,
 "nbformat_minor": 2
}
