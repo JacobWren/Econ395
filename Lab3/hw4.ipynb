{
 "cells": [
  {
   "cell_type": "markdown",
   "metadata": {},
   "source": [
    "# **Homework Four**"
   ]
  },
  {
   "cell_type": "markdown",
   "metadata": {},
   "source": [
    "\n",
    "•\t(Ungraded, but as always, completion still counts!) DataCamp Data Ingestion & inspection, and Exploratory data analysis\n",
    "\n",
    "•\t(Ungraded) Reading Vanderplas Chapters 2 & 3 (https://jakevdp.github.io/PythonDataScienceHandbook/)\n",
    "\n",
    "•\t(Graded) Pandas data problems below\n",
    "\n",
    "NOTE: YOU WILL SUBMIT THIS HW AS A IPYNB FILE AND AS A PDF. FIRST, PRINT IT TO PDF DISPLAYING YOUR GRAPH AND SUBMIT TO **HOMEWORK 4 PDF**. THEN COMMENT OUT THE GRAPH CODE AND SUBMIT IT AS A IPYNB FILE TO **HOMEWORK 4**. THE LATTER IS AUTOGRADED."
   ]
  },
  {
   "cell_type": "markdown",
   "metadata": {},
   "source": [
    "# Pandas exercises"
   ]
  },
  {
   "cell_type": "markdown",
   "metadata": {},
   "source": [
    "a) Use the bmore.csv dataset for this homework. The dataset contains poverty and crime statistics about neighborhoods in Baltimore, MD. Make sure your output does not display errors. Import the data into a DataFrame and describe the data."
   ]
  },
  {
   "cell_type": "code",
   "execution_count": 11,
   "metadata": {},
   "outputs": [
    {
     "data": {
      "text/html": [
       "<div>\n",
       "<style scoped>\n",
       "    .dataframe tbody tr th:only-of-type {\n",
       "        vertical-align: middle;\n",
       "    }\n",
       "\n",
       "    .dataframe tbody tr th {\n",
       "        vertical-align: top;\n",
       "    }\n",
       "\n",
       "    .dataframe thead th {\n",
       "        text-align: right;\n",
       "    }\n",
       "</style>\n",
       "<table border=\"1\" class=\"dataframe\">\n",
       "  <thead>\n",
       "    <tr style=\"text-align: right;\">\n",
       "      <th></th>\n",
       "      <th>CSA</th>\n",
       "      <th>Population</th>\n",
       "      <th>Median_Income</th>\n",
       "      <th>Unemployed</th>\n",
       "      <th>Families_in_Poverty</th>\n",
       "      <th>Bachelors_degree</th>\n",
       "      <th>Juvenile_Arrest_Rate</th>\n",
       "      <th>Homicide_Incidence_Rate</th>\n",
       "      <th>Life_Expectancy</th>\n",
       "      <th>Top_causes_of_death</th>\n",
       "    </tr>\n",
       "  </thead>\n",
       "  <tbody>\n",
       "    <tr>\n",
       "      <td>0</td>\n",
       "      <td>Allendale/Irvington/S. Hilton</td>\n",
       "      <td>16217</td>\n",
       "      <td>33112</td>\n",
       "      <td>0.15</td>\n",
       "      <td>0.15</td>\n",
       "      <td>0.09</td>\n",
       "      <td>127.6</td>\n",
       "      <td>22.2</td>\n",
       "      <td>68.5</td>\n",
       "      <td>Heart Disease, Cancer, Stroke, Homicide</td>\n",
       "    </tr>\n",
       "    <tr>\n",
       "      <td>1</td>\n",
       "      <td>Beechfield/Ten Hills/West Hills</td>\n",
       "      <td>12137</td>\n",
       "      <td>47730</td>\n",
       "      <td>0.09</td>\n",
       "      <td>0.12</td>\n",
       "      <td>0.20</td>\n",
       "      <td>66.8</td>\n",
       "      <td>8.2</td>\n",
       "      <td>72.7</td>\n",
       "      <td>Heart Disease, Cancer, Stroke, Homicide</td>\n",
       "    </tr>\n",
       "    <tr>\n",
       "      <td>2</td>\n",
       "      <td>Belair-Edison</td>\n",
       "      <td>17430</td>\n",
       "      <td>43769</td>\n",
       "      <td>0.14</td>\n",
       "      <td>0.09</td>\n",
       "      <td>0.63</td>\n",
       "      <td>98.2</td>\n",
       "      <td>24.1</td>\n",
       "      <td>70.9</td>\n",
       "      <td>Heart Disease, Cancer, Homicide, Stroke</td>\n",
       "    </tr>\n",
       "    <tr>\n",
       "      <td>3</td>\n",
       "      <td>Brooklyn/Curtis Bay/Hawkins Point</td>\n",
       "      <td>14243</td>\n",
       "      <td>32296</td>\n",
       "      <td>0.10</td>\n",
       "      <td>0.20</td>\n",
       "      <td>0.06</td>\n",
       "      <td>97.6</td>\n",
       "      <td>26.0</td>\n",
       "      <td>69.6</td>\n",
       "      <td>Heart Disease, Cancer, Respiratory Disease, Dr...</td>\n",
       "    </tr>\n",
       "    <tr>\n",
       "      <td>4</td>\n",
       "      <td>Canton</td>\n",
       "      <td>8100</td>\n",
       "      <td>77222</td>\n",
       "      <td>0.03</td>\n",
       "      <td>0.02</td>\n",
       "      <td>0.59</td>\n",
       "      <td>179.3</td>\n",
       "      <td>2.5</td>\n",
       "      <td>76.9</td>\n",
       "      <td>Heart Disease, Cancer, Respiratory Disease, St...</td>\n",
       "    </tr>\n",
       "  </tbody>\n",
       "</table>\n",
       "</div>"
      ],
      "text/plain": [
       "                                 CSA  Population  Median_Income  Unemployed  \\\n",
       "0      Allendale/Irvington/S. Hilton       16217          33112        0.15   \n",
       "1    Beechfield/Ten Hills/West Hills       12137          47730        0.09   \n",
       "2                      Belair-Edison       17430          43769        0.14   \n",
       "3  Brooklyn/Curtis Bay/Hawkins Point       14243          32296        0.10   \n",
       "4                             Canton        8100          77222        0.03   \n",
       "\n",
       "   Families_in_Poverty  Bachelors_degree  Juvenile_Arrest_Rate  \\\n",
       "0                 0.15              0.09                 127.6   \n",
       "1                 0.12              0.20                  66.8   \n",
       "2                 0.09              0.63                  98.2   \n",
       "3                 0.20              0.06                  97.6   \n",
       "4                 0.02              0.59                 179.3   \n",
       "\n",
       "   Homicide_Incidence_Rate  Life_Expectancy  \\\n",
       "0                     22.2             68.5   \n",
       "1                      8.2             72.7   \n",
       "2                     24.1             70.9   \n",
       "3                     26.0             69.6   \n",
       "4                      2.5             76.9   \n",
       "\n",
       "                                 Top_causes_of_death  \n",
       "0            Heart Disease, Cancer, Stroke, Homicide  \n",
       "1            Heart Disease, Cancer, Stroke, Homicide  \n",
       "2            Heart Disease, Cancer, Homicide, Stroke  \n",
       "3  Heart Disease, Cancer, Respiratory Disease, Dr...  \n",
       "4  Heart Disease, Cancer, Respiratory Disease, St...  "
      ]
     },
     "execution_count": 11,
     "metadata": {},
     "output_type": "execute_result"
    }
   ],
   "source": [
    "import pandas as pd\n",
    "import os\n",
    "import locale\n",
    "locale.setlocale( locale.LC_ALL, 'en_CA.UTF-8' )\n",
    "\n",
    "file_path = os.getenv(\"ROOT_PATH\", \"./\") + 'bmore.csv' \n",
    "data = pd.read_csv(\"bmore.csv\") \n",
    "data.head()"
   ]
  },
  {
   "cell_type": "markdown",
   "metadata": {},
   "source": [
    "b) Create methods to report summary statistics (e.g., mean, median, and standard deviations) using pandas Dataframe methods. Replace \"raise NotImplementedError\". Test a few to examine the data. "
   ]
  },
  {
   "cell_type": "code",
   "execution_count": 17,
   "metadata": {},
   "outputs": [
    {
     "name": "stdout",
     "output_type": "stream",
     "text": [
      "Mean income:  $40319.45\n",
      "Standard Deviation of Life_Expectancy:  4.78\n",
      "Median unemployment rate:  0.11\n",
      "\n",
      "columns:  Index(['CSA', 'Population', 'Median_Income', 'Unemployed',\n",
      "       'Families_in_Poverty', 'Bachelors_degree', 'Juvenile_Arrest_Rate',\n",
      "       'Homicide_Incidence_Rate', 'Life_Expectancy', 'Top_causes_of_death'],\n",
      "      dtype='object')\n"
     ]
    }
   ],
   "source": [
    "def get_mean(df, column_name):\n",
    "    return df[column_name].mean() \n",
    "\n",
    "def get_stddev(df, column_name):\n",
    "    return round(df[column_name].std(), 2)\n",
    "\n",
    "\n",
    "def get_median(df, column_name): \n",
    "    return df[column_name].median()\n",
    "\n",
    "def get_columns(df):\n",
    "    return df.columns\n",
    "\n",
    "print(\"Mean income: \", locale.currency(get_mean(data, 'Median_Income')))\n",
    "\n",
    "print(\"Standard Deviation of Life_Expectancy: \", get_stddev(data, 'Life_Expectancy'))\n",
    "\n",
    "print(\"Median unemployment rate: \", get_median(data, 'Unemployed'))\n",
    "\n",
    "print()\n",
    "\n",
    "print(\"columns: \", get_columns(data))"
   ]
  },
  {
   "cell_type": "markdown",
   "metadata": {},
   "source": [
    "c) Write a method that computes mean statistics on any variable where the unemployment rate is greater than **x** percent. "
   ]
  },
  {
   "cell_type": "code",
   "execution_count": 14,
   "metadata": {},
   "outputs": [
    {
     "data": {
      "text/plain": [
       "22.27"
      ]
     },
     "execution_count": 14,
     "metadata": {},
     "output_type": "execute_result"
    }
   ],
   "source": [
    "def get_meanX(df, column_name, x):\n",
    "    df_sub = df[ df[column_name] > x ]\n",
    "    return df_sub[column_name].mean() \n",
    "\n",
    "\n",
    "round(get_meanX(data, 'Homicide_Incidence_Rate', 2), 2)"
   ]
  },
  {
   "cell_type": "markdown",
   "metadata": {},
   "source": [
    "d) Write a method that groups the data by one or more categorical variables (e.g. CSA or Top_Causes_Death), and computers mean statistics for one variable in the dataframe."
   ]
  },
  {
   "cell_type": "code",
   "execution_count": 24,
   "metadata": {},
   "outputs": [
    {
     "data": {
      "text/plain": [
       "CSA                                    Top_causes_of_death                                                     \n",
       "Allendale/Irvington/S. Hilton          Heart Disease, Cancer, Stroke, Homicide                                     16217\n",
       "Beechfield/Ten Hills/West Hills        Heart Disease, Cancer, Stroke, Homicide                                     12137\n",
       "Belair-Edison                          Heart Disease, Cancer, Homicide, Stroke                                     17430\n",
       "Brooklyn/Curtis Bay/Hawkins Point      Heart Disease, Cancer, Respiratory Disease, Drug-induced Deaths             14243\n",
       "Canton                                 Heart Disease, Cancer, Respiratory Disease, Stroke                           8100\n",
       "Cedonia/Frankford                      Heart Disease, Cancer, Stroke, Respiratory Disease                          23557\n",
       "Cherry Hill                            Heart Disease, Cancer, Stroke, HIV/AIDS                                      8202\n",
       "Chinquapin Park/Belvedere              Heart Disease, Cancer, Stroke, Respiratory Disease                           7701\n",
       "Claremont/Armistead                    Heart Disease, Cancer, Stroke, Respiratory Disease                           8230\n",
       "Clifton-Berea                          Heart Disease, Cancer, Homicide, Stroke                                      9874\n",
       "Cross-Country/Cheswolde                Heart Disease, Cancer, Stroke, Injury                                       13029\n",
       "Dickeyville/Franklintown               Heart Disease, Cancer, Homicide, Stroke                                      4097\n",
       "Dorchester/Ashburton                   Heart Disease, Cancer, Stroke, Septicemia (Blood Poisoning)                 11794\n",
       "Downtown/Seton Hill                    Heart Disease, Cancer, Stroke, HIV/AIDS                                      6446\n",
       "Edmonson Village                       Heart Disease, Cancer, Stroke, HIV/AIDS                                      7900\n",
       "Fells Point                            Heart Disease, Cancer, Respiratory Disease, Stroke                           9039\n",
       "Forest Park/Walbrook                   Heart Disease, Cancer, Stroke, HIV/AIDS                                      9841\n",
       "Glen-Falstaff                          Heart Disease, Cancer, Stroke, Homicide                                     14916\n",
       "Greater Charles Village/Barclay        Heart Disease, Cancer, Diabetes, Stroke                                     16391\n",
       "Greater Govans                         Heart Disease, Cancer, HIV/AIDS, Stroke                                     10680\n",
       "Greater Mondawmin                      Heart Disease, Cancer, Stroke, HIV/AIDS                                      9339\n",
       "Greater Roland Park/Poplar             Heart Disease, Cancer, Stroke, Injury                                        7322\n",
       "Greater Rosemont                       Heart Disease, Cancer, Homicide, Stroke                                     19258\n",
       "Greenmount East                        Heart Disease, Cancer, HIV/AIDS, Stroke                                      9262\n",
       "Hamilton                               Heart Disease, Cancer, Respiratory Disease, Stroke                          12946\n",
       "Harford/Echodale                       Heart Disease, Cancer, Stroke, Diabetes                                     16895\n",
       "Highlandtown                           Heart Disease, Cancer, Respiratory Disease, Diabetes                         7250\n",
       "Howard Park/West Arlington             Heart Disease, Cancer, Stroke, HIV/AIDS                                     10871\n",
       "Inner Harbor/Federal Hill              Heart Disease, Cancer, Respiratory Disease, Stroke                          12855\n",
       "Jonestown/Oldtown                      Heart Disease, Cancer, HIV/AIDS, Stroke                                     10841\n",
       "Lauraville                             Heart Disease, Cancer, Stroke, Respiratory Disease                          12273\n",
       "Loch Raven                             Heart Disease, Cancer, Stroke, Septicemia (Blood Poisoning)                 15358\n",
       "Madison/East End                       Heart Disease, Cancer, Homicide, Stroke                                      7781\n",
       "Medfield/Hampden/Woodberry             Heart Disease, Cancer, Stroke, Respiratory Disease                          17432\n",
       "Midtown                                Heart Disease, Cancer, HIV/AIDS, Stroke                                     15685\n",
       "Midway/Coldstream                      Heart Disease, Cancer, Homicide, HIV/AIDS                                    9603\n",
       "Morrell Park/Violetville               Heart Disease, Cancer, Respiratory Disease, Drug-induced Deaths              9095\n",
       "Mt. Washington/Coldspring              Heart Disease, Cancer, Stroke, Diabetes                                      5183\n",
       "North Baltimore/Guilford/Homeland      Heart Disease, Cancer, Stroke, Respiratory Disease                          17472\n",
       "Northwood                              Heart Disease, Cancer, Stroke, Septicemia (Blood Poisoning)                 16635\n",
       "Orangeville/East Highlandtown          Heart Disease, Cancer, Stroke, Respiratory Disease                           9131\n",
       "Patterson Park North & East            Heart Disease, Cancer, Homicide, HIV/AIDS                                   14549\n",
       "Penn North/Reservoir Hill              Heart Disease, Cancer, HIV/AIDS, Diabetes                                    9665\n",
       "Perkins/Middle East                    Heart Disease, Cancer, HIV/AIDS, Homicide                                    4587\n",
       "Pimlico/Arlington/Hilltop              Heart Disease, Cancer, HIV/AIDS, Stroke                                     11816\n",
       "Poppleton/The Terraces/Hollins Market  Heart Disease, Cancer, HIV/AIDS, Stroke                                      5086\n",
       "Sandtown-Winchester/Harlem Park        Heart Disease, Cancer, Homicide, HIV/AIDS                                   14801\n",
       "South Baltimore                        Heart Disease, Cancer, Respiratory Disease, Diabetes                         6406\n",
       "Southeastern                           Heart Disease, Cancer, Respiratory Disease, Septicemia (Blood Poisoning)     6260\n",
       "Southern Park Heights                  Heart Disease, Cancer, Homicide, HIV/AIDS                                   13284\n",
       "Southwest Baltimore                    Heart Disease, Cancer, Drug-induced Deaths, Homicide                        17886\n",
       "The Waverlies                          Heart Disease, Cancer, HIV/AIDS, Stroke                                      7774\n",
       "Upton/Druid Heights                    Heart Disease, Cancer, HIV/AIDS, Homicide                                    9755\n",
       "Washington Village                     Heart Disease, Cancer, Respiratory Disease, Septicemia (Blood Poisoning)     5503\n",
       "Westport/Mt. Winans/Lakeland           Heart Disease, Cancer, Stroke, Homicide                                      7119\n",
       "Name: Population, dtype: int64"
      ]
     },
     "execution_count": 24,
     "metadata": {},
     "output_type": "execute_result"
    }
   ],
   "source": [
    "def get_meanG(df, column_list, variable):\n",
    "    df_g = df.groupby(column_list)\n",
    "    df_gg = df_g[variable]\n",
    "    return df_gg.mean()\n",
    "get_meanG(data, ['CSA','Top_causes_of_death'], 'Population')\n",
    "#get_meanG(data, ['Top_causes_of_death'], 'Population')\n",
    "#get_meanG(data, ['CSA'], 'Population')\n",
    "#get_meanG(data, ['Top_causes_of_death','CSA'], 'Population')"
   ]
  },
  {
   "cell_type": "markdown",
   "metadata": {},
   "source": [
    "e) Make a scatterplot of Median Income and Bachelors degree. The latter variable measures the\n",
    "percentage of the population in the county that has a bachelors degree."
   ]
  },
  {
   "cell_type": "code",
   "execution_count": 49,
   "metadata": {},
   "outputs": [
    {
     "data": {
      "text/plain": [
       "Text(0, 0.5, 'Bachelors_degree')"
      ]
     },
     "execution_count": 49,
     "metadata": {},
     "output_type": "execute_result"
    },
    {
     "data": {
      "image/png": "[encoded data removed]",
      "text/plain": [
       "<Figure size 432x288 with 1 Axes>"
      ]
     },
     "metadata": {
      "needs_background": "light"
     },
     "output_type": "display_data"
    }
   ],
   "source": [
    "import matplotlib.pyplot as plt\n",
    "%matplotlib inline\n",
    "\n",
    "plt.scatter(data['Median_Income'], data['Bachelors_degree'])\n",
    "plt.xlabel('Median_Income')\n",
    "plt.ylabel('Bachelors_degree')"
   ]
  },
  {
   "cell_type": "markdown",
   "metadata": {},
   "source": [
    "f) Run a regression model of the following form:\n",
    "Report a table with all coefficient estimates including p-values."
   ]
  },
  {
   "cell_type": "markdown",
   "metadata": {},
   "source": [
    "$$\\textrm{Juvenile_Arrest_Rate} = \n",
    "\\beta_0 + \\beta_1\\textrm{Population} + \\beta_2\\textrm{Median_Income} + \\beta_3\\textrm{Unemployment} + \\beta4\\textrm{Education} + \\beta_5\\textrm{Poverty} + \\epsilon $$"
   ]
  },
  {
   "cell_type": "code",
   "execution_count": 25,
   "metadata": {},
   "outputs": [
    {
     "name": "stdout",
     "output_type": "stream",
     "text": [
      "                             OLS Regression Results                             \n",
      "================================================================================\n",
      "Dep. Variable:     Juvenile_Arrest_Rate   R-squared:                       0.415\n",
      "Model:                              OLS   Adj. R-squared:                  0.356\n",
      "Method:                   Least Squares   F-statistic:                     6.963\n",
      "Date:                  Wed, 09 Dec 2020   Prob (F-statistic):           5.55e-05\n",
      "Time:                          08:52:52   Log-Likelihood:                -331.67\n",
      "No. Observations:                    55   AIC:                             675.3\n",
      "Df Residuals:                        49   BIC:                             687.4\n",
      "Df Model:                             5                                         \n",
      "Covariance Type:              nonrobust                                         \n",
      "=======================================================================================\n",
      "                          coef    std err          t      P>|t|      [0.025      0.975]\n",
      "---------------------------------------------------------------------------------------\n",
      "Intercept             265.4481    117.846      2.252      0.029      28.628     502.268\n",
      "Population             -0.0039      0.004     -1.097      0.278      -0.011       0.003\n",
      "Median_Income          -0.0054      0.002     -2.744      0.008      -0.009      -0.001\n",
      "Unemployed           -327.2254    460.436     -0.711      0.481   -1252.506     598.055\n",
      "Bachelors_degree      434.1787    124.732      3.481      0.001     183.520     684.838\n",
      "Families_in_Poverty   523.8737    265.980      1.970      0.055     -10.633    1058.380\n",
      "==============================================================================\n",
      "Omnibus:                       47.104   Durbin-Watson:                   2.035\n",
      "Prob(Omnibus):                  0.000   Jarque-Bera (JB):              251.263\n",
      "Skew:                           2.176   Prob(JB):                     2.75e-55\n",
      "Kurtosis:                      12.524   Cond. No.                     1.51e+06\n",
      "==============================================================================\n",
      "\n",
      "Warnings:\n",
      "[1] Standard Errors assume that the covariance matrix of the errors is correctly specified.\n",
      "[2] The condition number is large, 1.51e+06. This might indicate that there are\n",
      "strong multicollinearity or other numerical problems.\n"
     ]
    }
   ],
   "source": [
    "# Using StatsModels \"ols\", create a model named 'lm' that\n",
    "# maps Juvenile_Arrest_Rate as the dependent variable as a function of\n",
    "# Population, Median_Income, Unemployed, Bachelors_degree, and Families_in_Poverty\n",
    "\n",
    "# Your model will be tested assuming its name is \"lm\" so do not change the variable name\n",
    "\n",
    "# The model should have all of the typical attributes expected of a\n",
    "# statsmodels.regression.linear_model.RegressionResults, such as params and pvalues\n",
    "\n",
    "# Examine the various parameters and pvalues yourself to see how good of a fit the model is\n",
    "\n",
    "# Fill in the methods below based on statsmodels methods that in the regression results for the model\n",
    "\n",
    "\n",
    "import statsmodels.formula.api as smf\n",
    "lm = smf.ols(formula='Juvenile_Arrest_Rate ~ Population + Median_Income + Unemployed + Bachelors_degree + Families_in_Poverty', data=data).fit()\n",
    "\n",
    "\n",
    "def param_coefficients(linear_model_regression_results):\n",
    "    return linear_model_regression_results.params \n",
    "\n",
    "\n",
    "def p_values(linear_model_regression_results):\n",
    "    return linear_model_regression_results.pvalues\n",
    "\n",
    "\n",
    "def intercept(linear_model_regression_results):\n",
    "    return linear_model_regression_results.params.Intercept\n",
    "\n",
    "\n",
    "def standard_errors(linear_model_regression_results):\n",
    "    return linear_model_regression_results.bse\n",
    "\n",
    "print(lm.summary())"
   ]
  },
  {
   "cell_type": "markdown",
   "metadata": {
    "collapsed": true
   },
   "source": [
    "g) Interpret the coefficient on median income.\n",
    "For a $1 increase in city wide median income we expect the juvenile arrest rate to decrease by .0054 points holding all other variables constant.\n",
    "\n",
    "1) A \\$1 dollar increase in median income is correlated with how much of a decrease in the incarceration rate? \n",
    "\n",
    "2) What about a \\$1,000 increase?\n",
    "\n",
    "\n",
    "Make your answers in terms of two significant digits"
   ]
  },
  {
   "cell_type": "code",
   "execution_count": 57,
   "metadata": {},
   "outputs": [
    {
     "data": {
      "text/plain": [
       "5.4"
      ]
     },
     "execution_count": 57,
     "metadata": {},
     "output_type": "execute_result"
    }
   ],
   "source": [
    "answer_1 = .0054\n",
    "answer_2 = 5.4"
   ]
  },
  {
   "cell_type": "markdown",
   "metadata": {
    "collapsed": true
   },
   "source": [
    "\n"
   ]
  }
 ],
 "metadata": {
  "kernelspec": {
   "display_name": "Python 3",
   "language": "python",
   "name": "python3"
  },
  "language_info": {
   "codemirror_mode": {
    "name": "ipython",
    "version": 3
   },
   "file_extension": ".py",
   "mimetype": "text/x-python",
   "name": "python",
   "nbconvert_exporter": "python",
   "pygments_lexer": "ipython3",
   "version": "3.7.4"
  }
 },
 "nbformat": 4,
 "nbformat_minor": 2
}
